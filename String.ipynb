{
 "cells": [
  {
   "cell_type": "code",
   "execution_count": 1,
   "id": "1fcfa387",
   "metadata": {},
   "outputs": [
    {
     "name": "stdout",
     "output_type": "stream",
     "text": [
      " Krishna\n",
      "Hello, Krishna!\n"
     ]
    }
   ],
   "source": [
    "##1. take name as input and say hello\n",
    "name = input(\" \")\n",
    "print(\"Hello, \" + name + \"!\")"
   ]
  },
  {
   "cell_type": "code",
   "execution_count": 2,
   "id": "b07b3e60",
   "metadata": {},
   "outputs": [
    {
     "name": "stdout",
     "output_type": "stream",
     "text": [
      "Count of is = 2\n"
     ]
    }
   ],
   "source": [
    "# 2. From below string print count of \"Is\".\n",
    "string = \"He is Amol and she is Chaitali\"\n",
    "\n",
    "count = string.count(\"is\")\n",
    "print(\"Count of is = {}\".format(count))"
   ]
  },
  {
   "cell_type": "code",
   "execution_count": 3,
   "id": "663a6904",
   "metadata": {},
   "outputs": [
    {
     "name": "stdout",
     "output_type": "stream",
     "text": [
      "['Data', 'is', 'new', 'oil']\n"
     ]
    }
   ],
   "source": [
    "# 3. from below string split the words by space\n",
    "string = \"Data is new oil\"\n",
    "\n",
    "splitted_list = string.split(\" \")\n",
    "print(splitted_list)"
   ]
  },
  {
   "cell_type": "code",
   "execution_count": 4,
   "id": "e57b07ae",
   "metadata": {},
   "outputs": [
    {
     "name": "stdout",
     "output_type": "stream",
     "text": [
      "Data=is=new=oil\n"
     ]
    }
   ],
   "source": [
    "# 4. now from below list, join all words by \"=\" and create a sentence.\n",
    "list_1 = [\"Data\", \"is\", \"new\", \"oil\"]\n",
    "sentense =  \"=\".join(list_1)\n",
    "print(sentense)"
   ]
  },
  {
   "cell_type": "code",
   "execution_count": 5,
   "id": "7d7d374e",
   "metadata": {},
   "outputs": [
    {
     "name": "stdout",
     "output_type": "stream",
     "text": [
      "I love programming in Python.\n"
     ]
    }
   ],
   "source": [
    "# 5. from below string replace \"Java\" with \"Python\"\n",
    "sentence = \"I love programming in Java.\"\n",
    "new_s = sentence.replace(\"Java\",\"Python\")\n",
    "print(new_s)"
   ]
  },
  {
   "cell_type": "code",
   "execution_count": 6,
   "id": "2e0d9fe7",
   "metadata": {},
   "outputs": [
    {
     "name": "stdout",
     "output_type": "stream",
     "text": [
      "This is a message with spaces.\n"
     ]
    }
   ],
   "source": [
    "# 6. from below string remove(strip) additional spaces and print it\n",
    "message = \"   This is a message with spaces.   \"\n",
    "new_m = message.strip()\n",
    "print(new_m)"
   ]
  },
  {
   "cell_type": "code",
   "execution_count": 7,
   "id": "9dd58a71",
   "metadata": {},
   "outputs": [
    {
     "name": "stdout",
     "output_type": "stream",
     "text": [
      "10\n"
     ]
    }
   ],
   "source": [
    "#7. From below string find postion(start index) of \"sample\"\n",
    "import re\n",
    "sentence = \"This is a sample sentence.\"\n",
    "pattern = re.compile(re.escape(\"sample\"))\n",
    "match = pattern.search(sentence)\n",
    "start_index = match.start()\n",
    "\n",
    "print(start_index)"
   ]
  },
  {
   "cell_type": "code",
   "execution_count": 8,
   "id": "706ebbe3",
   "metadata": {},
   "outputs": [
    {
     "name": "stdout",
     "output_type": "stream",
     "text": [
      "14\n"
     ]
    }
   ],
   "source": [
    "#8. Given the string \"Python is fun!\", how can you calculate and print its length?\n",
    "text = \"Python is fun!\"\n",
    "print(len(text))"
   ]
  },
  {
   "cell_type": "code",
   "execution_count": 9,
   "id": "15275eb6",
   "metadata": {},
   "outputs": [
    {
     "name": "stdout",
     "output_type": "stream",
     "text": [
      "elppaeniP\n"
     ]
    }
   ],
   "source": [
    "#9. Print below string in reverse order\n",
    "string = \"Pineapple\"\n",
    "print(string[::-1])"
   ]
  },
  {
   "cell_type": "code",
   "execution_count": 10,
   "id": "f11257c8",
   "metadata": {},
   "outputs": [
    {
     "name": "stdout",
     "output_type": "stream",
     "text": [
      "Welcome To Python Programming.\n"
     ]
    }
   ],
   "source": [
    "#10. Given the string \"Welcome to Python Programming.\", how can you capitalize the first letter of each word and print the modified string?\n",
    "text = \"Welcome to Python Programming.\"\n",
    "print(text.title())\n"
   ]
  },
  {
   "cell_type": "code",
   "execution_count": 11,
   "id": "14a76366",
   "metadata": {},
   "outputs": [
    {
     "name": "stdout",
     "output_type": "stream",
     "text": [
      "DATA IS NEW OIL\n"
     ]
    }
   ],
   "source": [
    "#11. Convert all letter of string to Upper Case\n",
    "text = \"Data is new oil\"\n",
    "print(text.upper())"
   ]
  },
  {
   "cell_type": "code",
   "execution_count": 12,
   "id": "b7b70aaf",
   "metadata": {},
   "outputs": [
    {
     "name": "stdout",
     "output_type": "stream",
     "text": [
      "I am learning python\n"
     ]
    }
   ],
   "source": [
    "#12. From below string just convert first lettter of string to upper case\n",
    "text = \"i am learning python\"\n",
    "print(text.capitalize())"
   ]
  },
  {
   "cell_type": "code",
   "execution_count": 13,
   "id": "58a49129",
   "metadata": {},
   "outputs": [
    {
     "name": "stdout",
     "output_type": "stream",
     "text": [
      "dAta IS nEw Oil\n"
     ]
    }
   ],
   "source": [
    "#13. Convert all uppper case to lower and lower case to upper\n",
    "text = \"DaTA is NeW oIL\"\n",
    "print(text.swapcase())"
   ]
  },
  {
   "cell_type": "code",
   "execution_count": 14,
   "id": "0bbead88",
   "metadata": {},
   "outputs": [
    {
     "name": "stdout",
     "output_type": "stream",
     "text": [
      "2030\n"
     ]
    }
   ],
   "source": [
    "#14. print the addition of below 2 strings\n",
    "a = 20\n",
    "b = 30\n",
    "print(str(a)+str(b))"
   ]
  },
  {
   "cell_type": "code",
   "execution_count": 15,
   "id": "251a246b",
   "metadata": {},
   "outputs": [
    {
     "name": "stdout",
     "output_type": "stream",
     "text": [
      "2030\n"
     ]
    }
   ],
   "source": [
    "#15. print the additiono of below 2 strings\n",
    "a = \"20\"\n",
    "b = \"30\"\n",
    "print(a+b)"
   ]
  },
  {
   "cell_type": "code",
   "execution_count": null,
   "id": "7bbc909a",
   "metadata": {},
   "outputs": [],
   "source": []
  }
 ],
 "metadata": {
  "kernelspec": {
   "display_name": "Python 3 (ipykernel)",
   "language": "python",
   "name": "python3"
  },
  "language_info": {
   "codemirror_mode": {
    "name": "ipython",
    "version": 3
   },
   "file_extension": ".py",
   "mimetype": "text/x-python",
   "name": "python",
   "nbconvert_exporter": "python",
   "pygments_lexer": "ipython3",
   "version": "3.9.12"
  }
 },
 "nbformat": 4,
 "nbformat_minor": 5
}
